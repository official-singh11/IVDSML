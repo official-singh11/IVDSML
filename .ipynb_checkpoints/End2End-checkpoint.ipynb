{
 "cells": [
  {
   "cell_type": "code",
   "execution_count": 4,
   "id": "bdd901d7",
   "metadata": {},
   "outputs": [
    {
     "name": "stdout",
     "output_type": "stream",
     "text": [
      "\n",
      "columns: \n",
      "['name', 'city', 'date_of_birth', 'start_date', 'salary', 'department']\n",
      "\n"
     ]
    }
   ],
   "source": [
    "import pandas as pd\n",
    "staff = pd.read_csv(\"staff.csv\")\n",
    "print(f\"\\ncolumns: \\n{list(staff.columns)}\\n\")"
   ]
  },
  {
   "cell_type": "code",
   "execution_count": 5,
   "id": "5175291f",
   "metadata": {},
   "outputs": [
    {
     "name": "stdout",
     "output_type": "stream",
     "text": [
      "0    Joh\n",
      "1    Jan\n",
      "2    Mat\n",
      "3    Ash\n",
      "4    Jon\n",
      "5    Hal\n",
      "Name: name, dtype: object\n"
     ]
    }
   ],
   "source": [
    "print(staff[\"name\"].str[0:3])"
   ]
  },
  {
   "cell_type": "code",
   "execution_count": 6,
   "id": "03646c95",
   "metadata": {},
   "outputs": [
    {
     "name": "stdout",
     "output_type": "stream",
     "text": [
      "0            [John, Doe]\n",
      "1            [Jane, Doe]\n",
      "2          [Matt, smith]\n",
      "3       [Ashley, Harris]\n",
      "4    [Jonathan, targett]\n",
      "5           [Hale, Cole]\n",
      "Name: name, dtype: object\n"
     ]
    }
   ],
   "source": [
    "print(staff[\"name\"].str.split(\" \"))"
   ]
  },
  {
   "cell_type": "code",
   "execution_count": 8,
   "id": "32d90003",
   "metadata": {},
   "outputs": [
    {
     "name": "stdout",
     "output_type": "stream",
     "text": [
      "0        Doe\n",
      "1        Doe\n",
      "2      smith\n",
      "3     Harris\n",
      "4    targett\n",
      "5       Cole\n",
      "Name: last_name, dtype: object\n"
     ]
    }
   ],
   "source": [
    "# The expand parameter of the split function can be used to create separate columns after splitting.\n",
    "# We can then select the column we need.\n",
    "staff[\"last_name\"]=staff[\"name\"].str.split(\" \",expand=True)[1]\n",
    "print(staff[\"last_name\"])"
   ]
  },
  {
   "cell_type": "code",
   "execution_count": 9,
   "id": "8d16aa83",
   "metadata": {},
   "outputs": [
    {
     "name": "stdout",
     "output_type": "stream",
     "text": [
      "0               John Doe - Accounting\n",
      "1            Jane Doe - Field Quality\n",
      "2        Matt smith - human resources\n",
      "3          Ashley Harris - accounting\n",
      "4    Jonathan targett - field quality\n",
      "5             Hale Cole - engineering\n",
      "dtype: object\n"
     ]
    }
   ],
   "source": [
    "print(staff[\"name\"] + \" - \" + staff[\"department\"])"
   ]
  },
  {
   "cell_type": "code",
   "execution_count": 12,
   "id": "cca789e3",
   "metadata": {},
   "outputs": [
    {
     "data": {
      "text/plain": [
       "0     TX\n",
       "1     CA\n",
       "2     TX\n",
       "3     FL\n",
       "4     CA\n",
       "5     GA\n",
       "Name: state, dtype: object"
      ]
     },
     "execution_count": 12,
     "metadata": {},
     "output_type": "execute_result"
    }
   ],
   "source": [
    "staff[\"state\"]=staff[\"city\"].str.split(\",\",expand=True)[1]\n",
    "staff[\"state\"]"
   ]
  },
  {
   "cell_type": "code",
   "execution_count": 15,
   "id": "21b7d329",
   "metadata": {},
   "outputs": [
    {
     "name": "stdout",
     "output_type": "stream",
     "text": [
      "0        Houston --@ TX\n",
      "1       San Jose --@ CA\n",
      "2         Dallas --@ TX\n",
      "3          Miami --@ FL\n",
      "4    Santa Clara --@ CA\n",
      "5        Atlanta --@ GA\n",
      "Name: city, dtype: object\n"
     ]
    }
   ],
   "source": [
    "print(staff[\"city\"].str.replace(\",\",\" --@\"))"
   ]
  },
  {
   "cell_type": "code",
   "execution_count": 20,
   "id": "37fe072f",
   "metadata": {},
   "outputs": [
    {
     "data": {
      "text/plain": [
       "0         Texas\n",
       "1    California\n",
       "2         Texas\n",
       "3       Florida\n",
       "4    California\n",
       "5       Georgia\n",
       "Name: state, dtype: object"
      ]
     },
     "execution_count": 20,
     "metadata": {},
     "output_type": "execute_result"
    }
   ],
   "source": [
    "staff[\"state\"]=staff[\"city\"].str[-2:]\n",
    "staff[\"state\"].replace({\"TX\":\"Texas\",\"CA\":\"California\",\"FL\":\"Florida\",\"GA\":\"Georgia\"},inplace=True)\n",
    "staff[\"state\"]"
   ]
  },
  {
   "cell_type": "code",
   "execution_count": 21,
   "id": "51e58613",
   "metadata": {},
   "outputs": [
    {
     "name": "stdout",
     "output_type": "stream",
     "text": [
      "0     tx\n",
      "1     ca\n",
      "2     tx\n",
      "3     fl\n",
      "4     ca\n",
      "5     ga\n",
      "Name: 1, dtype: object\n"
     ]
    }
   ],
   "source": [
    "print(staff[\"city\"].str.split(\",\",expand=True)[1].str.lower())"
   ]
  },
  {
   "cell_type": "code",
   "execution_count": 22,
   "id": "04f4c926",
   "metadata": {},
   "outputs": [
    {
     "name": "stdout",
     "output_type": "stream",
     "text": [
      "0         accounting\n",
      "1            quality\n",
      "2    human resources\n",
      "3         accounting\n",
      "4            quality\n",
      "5        engineering\n",
      "Name: department, dtype: object\n"
     ]
    }
   ],
   "source": [
    "print(staff[\"department\"].str.lower().replace(\"field quality\",\"quality\"))"
   ]
  },
  {
   "cell_type": "code",
   "execution_count": 25,
   "id": "1cec88d8",
   "metadata": {},
   "outputs": [
    {
     "name": "stdout",
     "output_type": "stream",
     "text": [
      "2    2020\n",
      "4    2020\n",
      "Name: start_date, dtype: int64\n"
     ]
    }
   ],
   "source": [
    "print(staff.query(\"name>'John Doe'\").start_date.str[:4].astype(\"int\"))"
   ]
  },
  {
   "cell_type": "code",
   "execution_count": 27,
   "id": "c3f041d0",
   "metadata": {},
   "outputs": [
    {
     "name": "stdout",
     "output_type": "stream",
     "text": [
      "0    65000\n",
      "1    70000\n",
      "2    58500\n",
      "3    49500\n",
      "4    62000\n",
      "5    54500\n",
      "Name: salary_cleaned, dtype: int64\n"
     ]
    },
    {
     "name": "stderr",
     "output_type": "stream",
     "text": [
      "/var/folders/m9/wplwpdb51v76hyxjsyzv3g8r0000gn/T/ipykernel_1996/3651945297.py:2: FutureWarning: The default value of regex will change from True to False in a future version. In addition, single character regular expressions will *not* be treated as literal strings when regex=True.\n",
      "  staff[\"salary_cleaned\"]=staff[\"salary\"].str.replace(\"$\",\"\").str.replace(\",\",\"\")\n"
     ]
    }
   ],
   "source": [
    "#making salary proper\n",
    "staff[\"salary_cleaned\"]=staff[\"salary\"].str.replace(\"$\",\"\").str.replace(\",\",\"\")\n",
    "staff[\"salary_cleaned\"]=staff[\"salary_cleaned\"].astype(\"int\")\n",
    "print(staff[\"salary_cleaned\"])"
   ]
  },
  {
   "cell_type": "code",
   "execution_count": 31,
   "id": "a3a5bc6c",
   "metadata": {},
   "outputs": [
    {
     "name": "stdout",
     "output_type": "stream",
     "text": [
      "name                      object\n",
      "city                      object\n",
      "date_of_birth     datetime64[ns]\n",
      "start_date        datetime64[ns]\n",
      "salary                    object\n",
      "department                object\n",
      "last_name                 object\n",
      "state                     object\n",
      "salary_cleaned             int64\n",
      "dtype: object\n",
      "-----------------------AFTER CHANGE------------------------\n",
      "name                      object\n",
      "city                      object\n",
      "date_of_birth     datetime64[ns]\n",
      "start_date        datetime64[ns]\n",
      "salary                    object\n",
      "department                object\n",
      "last_name                 object\n",
      "state                     object\n",
      "salary_cleaned             int64\n",
      "dtype: object\n"
     ]
    }
   ],
   "source": [
    "print(staff.dtypes)\n",
    "staff = staff.astype({\n",
    "    \"date_of_birth\":\"datetime64[ns]\",\n",
    "    \"start_date\":\"datetime64[ns]\"\n",
    "})\n",
    "print(\"-----------------------AFTER CHANGE------------------------\")\n",
    "print(staff.dtypes)"
   ]
  },
  {
   "cell_type": "code",
   "execution_count": 35,
   "id": "176ea2a8",
   "metadata": {},
   "outputs": [
    {
     "name": "stdout",
     "output_type": "stream",
     "text": [
      "2023\n",
      "3\n",
      "<built-in method date of Timestamp object at 0x7fd778f5a0b0>\n",
      "14\n",
      "30\n",
      "0\n",
      "2023-03-20\n",
      "0\n",
      "March\n",
      "Monday\n"
     ]
    }
   ],
   "source": [
    "mydate=pd.to_datetime(\"2023-03-20 14:30:00\")\n",
    "print(mydate.year)\n",
    "print(mydate.month)\n",
    "print(mydate.date)\n",
    "print(mydate.hour)\n",
    "print(mydate.minute)\n",
    "print(mydate.second)\n",
    "print(mydate.date())\n",
    "print(mydate.weekday())\n",
    "print(mydate.month_name())\n",
    "print(mydate.day_name())"
   ]
  },
  {
   "cell_type": "code",
   "execution_count": 36,
   "id": "b214ea31",
   "metadata": {},
   "outputs": [
    {
     "name": "stdout",
     "output_type": "stream",
     "text": [
      "  start_date  start_month\n",
      "0 2018-08-11            8\n",
      "1 2017-08-24            8\n",
      "2 2020-04-16            4\n",
      "3 2021-02-11            2\n",
      "4 2020-09-01            9\n",
      "5 2021-10-20           10\n"
     ]
    }
   ],
   "source": [
    "staff = staff.astype({\n",
    "    \"date_of_birth\":\"datetime64[ns]\",\n",
    "    \"start_date\":\"datetime64[ns]\"\n",
    "})\n",
    "staff[\"start_month\"]=staff[\"start_date\"].dt.month\n",
    "print(staff[[\"start_date\",\"start_month\"]])\n",
    "#dt has also weekday, hour, minute,second, week,weekofyear"
   ]
  },
  {
   "cell_type": "code",
   "execution_count": 38,
   "id": "fa078cdb",
   "metadata": {},
   "outputs": [
    {
     "data": {
      "text/html": [
       "<div>\n",
       "<style scoped>\n",
       "    .dataframe tbody tr th:only-of-type {\n",
       "        vertical-align: middle;\n",
       "    }\n",
       "\n",
       "    .dataframe tbody tr th {\n",
       "        vertical-align: top;\n",
       "    }\n",
       "\n",
       "    .dataframe thead th {\n",
       "        text-align: right;\n",
       "    }\n",
       "</style>\n",
       "<table border=\"1\" class=\"dataframe\">\n",
       "  <thead>\n",
       "    <tr style=\"text-align: right;\">\n",
       "      <th></th>\n",
       "      <th>year</th>\n",
       "      <th>week</th>\n",
       "      <th>day</th>\n",
       "    </tr>\n",
       "  </thead>\n",
       "  <tbody>\n",
       "    <tr>\n",
       "      <th>0</th>\n",
       "      <td>2018</td>\n",
       "      <td>32</td>\n",
       "      <td>6</td>\n",
       "    </tr>\n",
       "    <tr>\n",
       "      <th>1</th>\n",
       "      <td>2017</td>\n",
       "      <td>34</td>\n",
       "      <td>4</td>\n",
       "    </tr>\n",
       "    <tr>\n",
       "      <th>2</th>\n",
       "      <td>2020</td>\n",
       "      <td>16</td>\n",
       "      <td>4</td>\n",
       "    </tr>\n",
       "    <tr>\n",
       "      <th>3</th>\n",
       "      <td>2021</td>\n",
       "      <td>6</td>\n",
       "      <td>4</td>\n",
       "    </tr>\n",
       "    <tr>\n",
       "      <th>4</th>\n",
       "      <td>2020</td>\n",
       "      <td>36</td>\n",
       "      <td>2</td>\n",
       "    </tr>\n",
       "    <tr>\n",
       "      <th>5</th>\n",
       "      <td>2021</td>\n",
       "      <td>42</td>\n",
       "      <td>3</td>\n",
       "    </tr>\n",
       "  </tbody>\n",
       "</table>\n",
       "</div>"
      ],
      "text/plain": [
       "   year  week  day\n",
       "0  2018    32    6\n",
       "1  2017    34    4\n",
       "2  2020    16    4\n",
       "3  2021     6    4\n",
       "4  2020    36    2\n",
       "5  2021    42    3"
      ]
     },
     "execution_count": 38,
     "metadata": {},
     "output_type": "execute_result"
    }
   ],
   "source": [
    "staff[\"start_date\"].dt.isocalendar()"
   ]
  },
  {
   "cell_type": "code",
   "execution_count": 46,
   "id": "263871fc",
   "metadata": {},
   "outputs": [
    {
     "name": "stdout",
     "output_type": "stream",
     "text": [
      "0   2018-08-11\n",
      "1   2017-08-24\n",
      "2   2020-04-16\n",
      "3   2021-02-11\n",
      "4   2020-09-01\n",
      "5   2021-10-20\n",
      "Name: start_date, dtype: datetime64[ns]\n",
      "0   2019-02-11\n",
      "1   2018-02-24\n",
      "2   2020-10-16\n",
      "3   2021-08-11\n",
      "4   2021-03-01\n",
      "5   2022-04-20\n",
      "Name: new_date, dtype: datetime64[ns]\n"
     ]
    }
   ],
   "source": [
    "staff[\"new_date\"]=staff[\"start_date\"]+pd.DateOffset(months=6)\n",
    "print(staff[\"start_date\"])\n",
    "print(staff[\"new_date\"])\n",
    "#DateOffSet also have years, months, weeks, days, hours, minutes, seconds, microseconds, nanoseconds"
   ]
  },
  {
   "cell_type": "code",
   "execution_count": 47,
   "id": "41ae23d1",
   "metadata": {},
   "outputs": [
    {
     "name": "stdout",
     "output_type": "stream",
     "text": [
      "0   2018-11-03\n",
      "1   2017-11-16\n",
      "2   2020-07-09\n",
      "3   2021-05-06\n",
      "4   2020-11-24\n",
      "5   2022-01-12\n",
      "Name: start_date, dtype: datetime64[ns]\n"
     ]
    }
   ],
   "source": [
    "print(staff[\"start_date\"]+pd.Timedelta(value=12, unit='w'))\n",
    "# in unit you can also specify as d,h,t,s,l,u,n which are respectivelly day,hour,minute,second,millisecond,microsecond,nanosecond"
   ]
  },
  {
   "cell_type": "code",
   "execution_count": null,
   "id": "5c85704d",
   "metadata": {},
   "outputs": [],
   "source": []
  }
 ],
 "metadata": {
  "kernelspec": {
   "display_name": "Python 3 (ipykernel)",
   "language": "python",
   "name": "python3"
  },
  "language_info": {
   "codemirror_mode": {
    "name": "ipython",
    "version": 3
   },
   "file_extension": ".py",
   "mimetype": "text/x-python",
   "name": "python",
   "nbconvert_exporter": "python",
   "pygments_lexer": "ipython3",
   "version": "3.9.13"
  }
 },
 "nbformat": 4,
 "nbformat_minor": 5
}
